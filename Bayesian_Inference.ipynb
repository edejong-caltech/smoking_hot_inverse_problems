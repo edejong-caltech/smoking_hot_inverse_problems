{
 "cells": [
  {
   "cell_type": "code",
   "execution_count": 68,
   "id": "edf90294",
   "metadata": {},
   "outputs": [],
   "source": [
    "import matplotlib.pyplot as plt\n",
    "import numpy as np\n",
    "from IPython.display import HTML\n",
    "import matplotlib.animation as animation\n",
    "from os import listdir\n",
    "from tqdm.notebook import tqdm as t\n",
    "\n",
    "data_dir = \"/home/pau/Documents/DataHotIPs/\"\n",
    "\n",
    "files = sorted(listdir(data_dir))\n",
    "\n",
    "#Parameters of the grid\n",
    "Ntimes = 119\n",
    "N = 80\n",
    "#Change line below to name of the files\n",
    "namefile = lambda i,j: data_dir + 'source_'+str(i)+'_'+str(j)+'.npy'"
   ]
  },
  {
   "cell_type": "code",
   "execution_count": 60,
   "id": "db7b684f",
   "metadata": {},
   "outputs": [],
   "source": [
    "def weighted_norm(Sigma_inv, x):\n",
    "    return x.T@Sigma_inv@x\n",
    "\n",
    "def compute_posterior(true_source, measurement_array, Sigma_noise, preload_data = None, preload_measurements = None):\n",
    "\n",
    "    if preload_data is None:\n",
    "        #Generate random data\n",
    "        True_measurements = np.load(namefile(*true_source))[measurement_array]\n",
    "        noise = np.random.multivariate_normal(mean = [0]*n_measurements, cov = Sigma_noise)\n",
    "        data = True_measurements + noise\n",
    "    else: \n",
    "        data = preload_data\n",
    "    \n",
    "    if preload_measurements is None:\n",
    "        #Will load the matrices from disk\n",
    "        get_measurements = lambda i,j: np.load(namefile(i,j))[measurement_array]\n",
    "    else:\n",
    "        #Measurements has to be (N,N,N_measurements)\n",
    "        get_measurements = lambda i,j: preload_measurements[i,j]\n",
    "  \n",
    "    \n",
    "    Sigma_inv = np.linalg.inv(Sigma_noise)\n",
    "    posterior = np.zeros((N,N))\n",
    "    #I'm not sure if this can be vectorized anymore since I have to individually open and close files\n",
    "    #However, it is not slow\n",
    "    for i in t(range(N)):\n",
    "        for j in range(N):\n",
    "            #Compute prob(data|source is in (i,j))\n",
    "            #Compute first true observations that would have happened if the source was in (i,j)\n",
    "            hypothetical_observations = get_measurements(i,j)\n",
    "            posterior[i,j] = np.exp(-1/2 * weighted_norm(Sigma_inv, data-hypothetical_observations))\n",
    "    s = np.sum(posterior)\n",
    "    posterior/= s\n",
    "    return posterior"
   ]
  },
  {
   "cell_type": "code",
   "execution_count": 70,
   "id": "f286b383",
   "metadata": {},
   "outputs": [],
   "source": [
    "#Example parameters to run the function\n",
    "true_source = (3,7) #Specifies the coordinate in the grid where one can find the true source \n",
    "#Where in the grid are we making measurements? \n",
    "#We specify it with a boolean array of shape [Ntimes, N, N], true if we are making measurements and false if not\n",
    "#The following example is 10 sensors in the diagonal at all times, giving us 10*10*119 = 1190 measurements\n",
    "measurement_array = np.zeros((Ntimes, N, N)).astype(bool)\n",
    "sensors = [[6*i, 6*i] for i in range(1,11)]\n",
    "n_measurements = 0\n",
    "for i in range(Ntimes):\n",
    "    for sensor in sensors:\n",
    "        measurement_array[i, sensor[0], sensor[1]] = True\n",
    "        n_measurements +=1"
   ]
  },
  {
   "cell_type": "code",
   "execution_count": 69,
   "id": "1898a257",
   "metadata": {},
   "outputs": [
    {
     "data": {
      "application/vnd.jupyter.widget-view+json": {
       "model_id": "245133690fc345deb121a664da999b7d",
       "version_major": 2,
       "version_minor": 0
      },
      "text/plain": [
       "  0%|          | 0/80 [00:00<?, ?it/s]"
      ]
     },
     "metadata": {},
     "output_type": "display_data"
    }
   ],
   "source": [
    "#An example of precomputed measurements: \n",
    "precomputed_measurements = np.zeros((N,N,n_measurements))\n",
    "for i in t(range(N)):\n",
    "    for j in range(N):\n",
    "        precomputed_measurements[i,j] = np.load(namefile(i,j))[measurement_array]"
   ]
  },
  {
   "cell_type": "code",
   "execution_count": 75,
   "id": "833f74eb",
   "metadata": {},
   "outputs": [],
   "source": [
    "sigma = 0.1 \n",
    "Sigma_noise = sigma**2*np.eye(n_measurements) #Assuming here that all the sensors are independent and with the same noise"
   ]
  },
  {
   "cell_type": "code",
   "execution_count": 76,
   "id": "65d6e653",
   "metadata": {
    "scrolled": true
   },
   "outputs": [
    {
     "data": {
      "application/vnd.jupyter.widget-view+json": {
       "model_id": "c15fb234b27c43e186d4f191f49bb444",
       "version_major": 2,
       "version_minor": 0
      },
      "text/plain": [
       "  0%|          | 0/80 [00:00<?, ?it/s]"
      ]
     },
     "metadata": {},
     "output_type": "display_data"
    }
   ],
   "source": [
    "posterior = compute_posterior(true_source=true_source, measurement_array=measurement_array, Sigma_noise=Sigma_noise, \n",
    "                 preload_measurements= precomputed_measurements)"
   ]
  },
  {
   "cell_type": "code",
   "execution_count": 77,
   "id": "05e5638d",
   "metadata": {},
   "outputs": [
    {
     "data": {
      "text/plain": [
       "<matplotlib.image.AxesImage at 0x7f55e83eabb0>"
      ]
     },
     "execution_count": 77,
     "metadata": {},
     "output_type": "execute_result"
    },
    {
     "data": {
      "image/png": "[encoded data removed]",
      "text/plain": [
       "<Figure size 432x288 with 1 Axes>"
      ]
     },
     "metadata": {
      "needs_background": "light"
     },
     "output_type": "display_data"
    }
   ],
   "source": [
    "plt.imshow(posterior)"
   ]
  }
 ],
 "metadata": {
  "kernelspec": {
   "display_name": "Python 3",
   "language": "python",
   "name": "python3"
  },
  "language_info": {
   "codemirror_mode": {
    "name": "ipython",
    "version": 3
   },
   "file_extension": ".py",
   "mimetype": "text/x-python",
   "name": "python",
   "nbconvert_exporter": "python",
   "pygments_lexer": "ipython3",
   "version": "3.8.8"
  }
 },
 "nbformat": 4,
 "nbformat_minor": 5
}
