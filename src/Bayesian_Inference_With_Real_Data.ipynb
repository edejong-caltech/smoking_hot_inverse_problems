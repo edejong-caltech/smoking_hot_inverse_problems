{
 "cells": [
  {
   "cell_type": "code",
   "execution_count": 1,
   "id": "cac219a5",
   "metadata": {},
   "outputs": [],
   "source": [
    "#The code I used to generate example data \n",
    "# M = np.zeros((300, 4))\n",
    "# K = np.load(namefile(2,3))\n",
    "# for i in range(300):\n",
    "#     M[i,0] = np.random.randint(low = 0, high = Ntimes)\n",
    "#     M[i,1] = np.random.randint(low = 0, high = N)\n",
    "#     M[i,2] = np.random.randint(low = 0, high = N)\n",
    "#     M[i,3] = K[int(M[i,0]),int(M[i,1]),int(M[i,2])]\n",
    "# M = np.unique(M, axis = 0)\n",
    "#np.save('Example_data.npy', M)\n"
   ]
  },
  {
   "cell_type": "code",
   "execution_count": 42,
   "id": "edf90294",
   "metadata": {},
   "outputs": [],
   "source": [
    "import matplotlib.pyplot as plt\n",
    "import numpy as np\n",
    "from tqdm.notebook import tqdm as t\n",
    "from pathlib import Path\n",
    "from run_forward_model import generate_model_config, run_model, create_grid\n",
    "\n",
    "# Fetch simulation data path\n",
    "namefile = lambda i,j: Path().cwd() / f'data/sample_data_{i}_{j}.npy'\n",
    "\n"
   ]
  },
  {
   "cell_type": "code",
   "execution_count": 43,
   "id": "bf38440b",
   "metadata": {},
   "outputs": [
    {
     "name": "stdout",
     "output_type": "stream",
     "text": [
      "Measurement array sorted\n"
     ]
    }
   ],
   "source": [
    "# Loading true data\n",
    "measurement_data_file = \"../data/pm25_processed_1day.npy\"\n",
    "measurement_array = np.load(measurement_data_file)\n",
    "sorted_array = np.array(sorted(measurement_array, key = lambda x: (x[0], x[1], x[2])))\n",
    "if (sorted_array != measurement_array).any():\n",
    "    measurement_array = sorted_array\n",
    "    print(\"Measurement array sorted\")\n",
    "tmp, ar = np.unique(measurement_array[:,0:3], axis=0, return_index=True)\n",
    "measurement_array = measurement_array[ar,:]"
   ]
  },
  {
   "cell_type": "code",
   "execution_count": 44,
   "id": "a8b7468e",
   "metadata": {},
   "outputs": [],
   "source": [
    "# Generate forward model data\n",
    "\n",
    "#Parameters of the grid\n",
    "tmax = 600*144\n",
    "time_step = 600\n",
    "Nx = Ny = 80\n",
    "widthx = 110e3\n",
    "widthy = 220e3\n",
    "# Model parameters\n",
    "source_strength = np.array([1.0])\n",
    "source_locations = np.array([[60, 60]])\n",
    "velocity_field = np.array([-4.0, -6.0])\n",
    "diffusion_coefficent = 10.0\n",
    "sensor_times = np.arange(0, tmax+1, step=600)\n",
    "Ntimes = len(sensor_times)\n",
    "# Model config\n",
    "gb = create_grid(Nx, widthx, Ny, widthy)\n",
    "model_grid = gb.get_grids()[0]\n"
   ]
  },
  {
   "cell_type": "code",
   "execution_count": 45,
   "id": "b7b949f8",
   "metadata": {},
   "outputs": [],
   "source": [
    "cell_widthx = widthx / Nx\n",
    "cell_widthy = widthy / Ny"
   ]
  },
  {
   "cell_type": "code",
   "execution_count": 6,
   "id": "69ac62e3",
   "metadata": {},
   "outputs": [
    {
     "name": "stdout",
     "output_type": "stream",
     "text": [
      "finished sim  0  out of  6400\n",
      "finished sim  80  out of  6400\n",
      "finished sim  160  out of  6400\n",
      "finished sim  240  out of  6400\n",
      "finished sim  320  out of  6400\n",
      "finished sim  400  out of  6400\n",
      "finished sim  480  out of  6400\n",
      "finished sim  560  out of  6400\n",
      "finished sim  640  out of  6400\n",
      "finished sim  720  out of  6400\n",
      "finished sim  800  out of  6400\n",
      "finished sim  880  out of  6400\n",
      "finished sim  960  out of  6400\n",
      "finished sim  1040  out of  6400\n",
      "finished sim  1120  out of  6400\n",
      "finished sim  1200  out of  6400\n",
      "finished sim  1280  out of  6400\n",
      "finished sim  1360  out of  6400\n",
      "finished sim  1440  out of  6400\n",
      "finished sim  1520  out of  6400\n",
      "finished sim  1600  out of  6400\n",
      "finished sim  1680  out of  6400\n",
      "finished sim  1760  out of  6400\n",
      "finished sim  1840  out of  6400\n",
      "finished sim  1920  out of  6400\n",
      "finished sim  2000  out of  6400\n",
      "finished sim  2080  out of  6400\n",
      "finished sim  2160  out of  6400\n",
      "finished sim  2240  out of  6400\n",
      "finished sim  2320  out of  6400\n",
      "finished sim  2400  out of  6400\n",
      "finished sim  2480  out of  6400\n",
      "finished sim  2560  out of  6400\n",
      "finished sim  2640  out of  6400\n",
      "finished sim  2720  out of  6400\n",
      "finished sim  2800  out of  6400\n",
      "finished sim  2880  out of  6400\n",
      "finished sim  2960  out of  6400\n",
      "finished sim  3040  out of  6400\n",
      "finished sim  3120  out of  6400\n",
      "finished sim  3200  out of  6400\n",
      "finished sim  3280  out of  6400\n",
      "finished sim  3360  out of  6400\n",
      "finished sim  3440  out of  6400\n",
      "finished sim  3520  out of  6400\n",
      "finished sim  3600  out of  6400\n",
      "finished sim  3680  out of  6400\n",
      "finished sim  3760  out of  6400\n",
      "finished sim  3840  out of  6400\n",
      "finished sim  3920  out of  6400\n",
      "finished sim  4000  out of  6400\n",
      "finished sim  4080  out of  6400\n",
      "finished sim  4160  out of  6400\n",
      "finished sim  4240  out of  6400\n",
      "finished sim  4320  out of  6400\n",
      "finished sim  4400  out of  6400\n",
      "finished sim  4480  out of  6400\n",
      "finished sim  4560  out of  6400\n",
      "finished sim  4640  out of  6400\n",
      "finished sim  4720  out of  6400\n",
      "finished sim  4800  out of  6400\n",
      "finished sim  4880  out of  6400\n",
      "finished sim  4960  out of  6400\n",
      "finished sim  5040  out of  6400\n",
      "finished sim  5120  out of  6400\n",
      "finished sim  5200  out of  6400\n",
      "finished sim  5280  out of  6400\n",
      "finished sim  5360  out of  6400\n",
      "finished sim  5440  out of  6400\n",
      "finished sim  5520  out of  6400\n",
      "finished sim  5600  out of  6400\n",
      "finished sim  5680  out of  6400\n",
      "finished sim  5760  out of  6400\n",
      "finished sim  5840  out of  6400\n",
      "finished sim  5920  out of  6400\n",
      "finished sim  6000  out of  6400\n",
      "finished sim  6080  out of  6400\n",
      "finished sim  6160  out of  6400\n",
      "finished sim  6240  out of  6400\n",
      "finished sim  6320  out of  6400\n"
     ]
    }
   ],
   "source": [
    "\"\"\" \n",
    "DO NOT RUN IF DATA ALREADY EXISTS\n",
    "\"\"\"\n",
    "for i in range(Nx*Ny):\n",
    "    source_location = np.atleast_2d(model_grid.cell_centers[:2,i])\n",
    "    config = generate_model_config(\n",
    "        Nx = Nx, Ny = Ny,\n",
    "        widthx = widthx, widthy = widthy,\n",
    "        time_step = time_step, tmax = tmax,\n",
    "        source_strength = source_strength,\n",
    "        source_locations = source_location,\n",
    "        velocity_field = velocity_field,\n",
    "        diffusion_coefficent = diffusion_coefficent,\n",
    "        sensor_times = sensor_times,\n",
    "    )\n",
    "    true_data, gb_true = run_model(\n",
    "        config, save_output=True,\n",
    "        # coarsegrain_output=True, coarse_grid=model_grid,\n",
    "        # create_gif=True\n",
    "    )\n",
    "    if (i % Nx) == 0:\n",
    "        print('finished sim ',i,' out of ',Nx*Ny)"
   ]
  },
  {
   "cell_type": "code",
   "execution_count": 46,
   "id": "b50dba03",
   "metadata": {},
   "outputs": [
    {
     "data": {
      "text/plain": [
       "array([5689, 5291, 4336, 3860, 3541, 3623, 3703, 4183, 5143, 3224, 3544,\n",
       "       2666, 3786, 3068, 3468, 2989, 1950, 3470, 2192, 2592, 2355, 3796,\n",
       "       3637, 4517, 1558, 4758, 5079, 5479, 3400, 3242,  364, 4124,  125,\n",
       "         46, 2128, 3008, 2533, 2376, 2377, 1738, 1499, 3825, 3427, 3116,\n",
       "        158])"
      ]
     },
     "execution_count": 46,
     "metadata": {},
     "output_type": "execute_result"
    }
   ],
   "source": [
    "np.isclose(measurement_array[:,0], 6)\n",
    "sensors_at_t = measurement_array[np.isclose(measurement_array[:,0], 6),:]\n",
    "sensor_locs = (sensors_at_t[:,[1,2]] * np.array([cell_widthx, cell_widthy]) + np.array([cell_widthx, cell_widthy]) / 2).T\n",
    "model_grid.closest_cell(sensor_locs)"
   ]
  },
  {
   "cell_type": "code",
   "execution_count": 84,
   "id": "db7b684f",
   "metadata": {},
   "outputs": [],
   "source": [
    "def weighted_norm(Sigma_inv, x):\n",
    "    return x.T@Sigma_inv@x\n",
    "\n",
    "def compute_posterior(prior, measurement_array, Sigma_noise, scaling=1.0, preload_sim_data=None):\n",
    "\n",
    "    if preload_sim_data is None:\n",
    "        #Will load the matrices from disk\n",
    "        #I build the mask first\n",
    "        measurement_mask = np.zeros((Ntimes, Nx, Ny)).astype(bool)\n",
    "        for i in range(len(measurement_array)):\n",
    "            measurement_mask[int(measurement_array[i,0]), int(measurement_array[i,1]), int(measurement_array[i,2])] = True\n",
    "        get_hypothetical = lambda i,j: np.load(namefile(i,j)).reshape(Ntimes,Nx,Ny)[measurement_mask]\n",
    "    else:\n",
    "        #preload_sim_data has to be (N,N,N_measurements)\n",
    "        get_hypothetical = lambda i,j: preload_sim_data[i,j]\n",
    "    \n",
    "    data = measurement_array[:, -1] \n",
    "    \n",
    "    Sigma_inv = np.linalg.inv(Sigma_noise)\n",
    "    posterior = np.zeros((Nx,Ny))\n",
    "    #I'm not sure if this can be vectorized more since I have to individually open and close files\n",
    "    for i in t(range(Nx)):\n",
    "        for j in range(Ny):\n",
    "            #Compute prob(data|source is in (i,j))\n",
    "            #Compute first true observations that would have happened if the source was in (i,j)\n",
    "            hypothetical_observations = get_hypothetical(i,j)*scaling\n",
    "            posterior[i,j] = prior[i,j]*np.exp(-1/2 * weighted_norm(Sigma_inv, data-hypothetical_observations))\n",
    "    s = np.sum(posterior)\n",
    "    posterior/= s\n",
    "    return posterior"
   ]
  },
  {
   "cell_type": "code",
   "execution_count": 89,
   "metadata": {},
   "outputs": [
    {
     "data": {
      "text/plain": [
       "0.0"
      ]
     },
     "execution_count": 89,
     "metadata": {},
     "output_type": "execute_result"
    }
   ],
   "source": [
    "i = 40\n",
    "j = 40\n",
    "Sigma_inv = np.linalg.inv(Sigma_noise)\n",
    "hypothetical_observations = get_hypothetical(i,j)\n",
    "data = measurement_array[:, -1] \n",
    "p = prior[i,j]*np.exp(-1/2 * weighted_norm(Sigma_inv, data-hypothetical_observations))\n",
    "p"
   ]
  },
  {
   "cell_type": "code",
   "execution_count": 93,
   "id": "833f74eb",
   "metadata": {},
   "outputs": [],
   "source": [
    "#How much noise do we assume that the measurements had? In units of the measurements\n",
    "#Assuming here that all the sensors are independent and with the same noise\n",
    "n_measurements = measurement_array.shape[0]\n",
    "sigma = 1.0 \n",
    "Sigma_noise = sigma**2*np.eye(n_measurements) \n",
    "\n",
    "# Scale the theoretical data\n",
    "i = 60\n",
    "j = 60\n",
    "hypothetical_observations = get_hypothetical(i,j)\n",
    "data = measurement_array[:, -1] \n",
    "scaling = np.mean(data)/np.mean(hypothetical_observations)"
   ]
  },
  {
   "cell_type": "code",
   "execution_count": 94,
   "id": "65d6e653",
   "metadata": {
    "scrolled": false
   },
   "outputs": [
    {
     "data": {
      "application/vnd.jupyter.widget-view+json": {
       "model_id": "46d4bb2d0e7b46feb47fde06bcbfebc6",
       "version_major": 2,
       "version_minor": 0
      },
      "text/plain": [
       "  0%|          | 0/80 [00:00<?, ?it/s]"
      ]
     },
     "metadata": {},
     "output_type": "display_data"
    }
   ],
   "source": [
    "posterior = compute_posterior(prior = prior, measurement_array=measurement_array, Sigma_noise=Sigma_noise, scaling=scaling)"
   ]
  },
  {
   "cell_type": "code",
   "execution_count": 102,
   "id": "8460517b",
   "metadata": {},
   "outputs": [
    {
     "data": {
      "image/png": "[encoded data removed]",
      "text/plain": [
       "<Figure size 432x288 with 2 Axes>"
      ]
     },
     "metadata": {
      "needs_background": "light"
     },
     "output_type": "display_data"
    }
   ],
   "source": [
    "casename = \"case_runs/80x80_realdata_posterior_uniform_sigma1_0\"\n",
    "plt.imshow(posterior)\n",
    "plt.colorbar()\n",
    "plt.gca().invert_yaxis()\n",
    "plt.savefig(casename + \".png\")\n",
    "np.save(casename + \".npy\", posterior)"
   ]
  },
  {
   "cell_type": "code",
   "execution_count": 97,
   "metadata": {},
   "outputs": [],
   "source": [
    "np.save(\"80x80_realdata_posterior_uniform_sigma1_0.npy\", posterior)"
   ]
  },
  {
   "cell_type": "code",
   "execution_count": 55,
   "id": "719d146d",
   "metadata": {},
   "outputs": [
    {
     "data": {
      "text/plain": [
       "array([[nan, nan, nan, ..., nan, nan, nan],\n",
       "       [nan, nan, nan, ..., nan, nan, nan],\n",
       "       [nan, nan, nan, ..., nan, nan, nan],\n",
       "       ...,\n",
       "       [nan, nan, nan, ..., nan, nan, nan],\n",
       "       [nan, nan, nan, ..., nan, nan, nan],\n",
       "       [nan, nan, nan, ..., nan, nan, nan]])"
      ]
     },
     "execution_count": 55,
     "metadata": {},
     "output_type": "execute_result"
    }
   ],
   "source": [
    "posterior"
   ]
  },
  {
   "cell_type": "code",
   "execution_count": null,
   "metadata": {},
   "outputs": [],
   "source": []
  }
 ],
 "metadata": {
  "interpreter": {
   "hash": "43e28883dfd2193a82dc824ab0215c5454e30ee6978a278cbf6e10e44db4f48d"
  },
  "kernelspec": {
   "display_name": "Python 3.9.7 64-bit ('porepy': conda)",
   "name": "python3"
  },
  "language_info": {
   "codemirror_mode": {
    "name": "ipython",
    "version": 3
   },
   "file_extension": ".py",
   "mimetype": "text/x-python",
   "name": "python",
   "nbconvert_exporter": "python",
   "pygments_lexer": "ipython3",
   "version": "3.7.11"
  }
 },
 "nbformat": 4,
 "nbformat_minor": 5
}
