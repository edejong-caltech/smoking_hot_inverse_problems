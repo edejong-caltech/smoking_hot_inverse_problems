{
 "cells": [
  {
   "cell_type": "code",
   "execution_count": 188,
   "id": "cac219a5",
   "metadata": {},
   "outputs": [],
   "source": [
    "#The code I used to generate example data \n",
    "# M = np.zeros((300, 4))\n",
    "# K = np.load(namefile(2,3))\n",
    "# for i in range(300):\n",
    "#     M[i,0] = np.random.randint(low = 0, high = Ntimes)\n",
    "#     M[i,1] = np.random.randint(low = 0, high = N)\n",
    "#     M[i,2] = np.random.randint(low = 0, high = N)\n",
    "#     M[i,3] = K[int(M[i,0]),int(M[i,1]),int(M[i,2])]\n",
    "# M = np.unique(M, axis = 0)\n",
    "#np.save('Example_data.npy', M)\n"
   ]
  },
  {
   "cell_type": "code",
   "execution_count": 8,
   "id": "edf90294",
   "metadata": {},
   "outputs": [],
   "source": [
    "import matplotlib.pyplot as plt\n",
    "import numpy as np\n",
    "from tqdm.notebook import tqdm as t\n",
    "\n",
    "#Parameters of the grid\n",
    "Ntimes = 119\n",
    "N = 80\n",
    "\n",
    "#Change lines below to match name of the directory and names of the files\n",
    "\n",
    "simulation_data_dir = \"/home/pau/Documents/DataHotIPs/\"\n",
    "namefile = lambda i,j: simulation_data_dir + 'source_'+str(i)+'_'+str(j)+'.npy'\n",
    "\n",
    "#measurement_data_file = \"Example_data.npy\"\n",
    "measurement_data_file = \"../data/pm25_processed_1day.npy\"\n",
    "measurement_array = np.load(measurement_data_file)\n"
   ]
  },
  {
   "cell_type": "code",
   "execution_count": 9,
   "id": "bf38440b",
   "metadata": {},
   "outputs": [
    {
     "name": "stdout",
     "output_type": "stream",
     "text": [
      "Measurement array sorted\n"
     ]
    }
   ],
   "source": [
    "sorted_array = np.array(sorted(measurement_array, key = lambda x: (x[0], x[1], x[2])))\n",
    "if (sorted_array != measurement_array).any():\n",
    "    measurement_array = sorted_array\n",
    "    print(\"Measurement array sorted\")\n",
    "measurement_array = measurement_array[0:1000]"
   ]
  },
  {
   "cell_type": "code",
   "execution_count": 10,
   "id": "db7b684f",
   "metadata": {},
   "outputs": [],
   "source": [
    "def weighted_norm(Sigma_inv, x):\n",
    "    return x.T@Sigma_inv@x\n",
    "\n",
    "def compute_posterior(prior, measurement_array, Sigma_noise, preload_sim_data = None):\n",
    "\n",
    "    if preload_sim_data is None:\n",
    "        #Will load the matrices from disk\n",
    "        #I build the mask first\n",
    "        measurement_mask = np.zeros((Ntimes, N, N)).astype(bool)\n",
    "        for i in range(len(measurement_array)):\n",
    "            measurement_mask[int(measurement_array[i,0]), int(measurement_array[i,1]), int(measurement_array[i,2])] = True\n",
    "        get_measurements = lambda i,j: np.load(namefile(i,j))[measurement_mask]\n",
    "    else:\n",
    "        #preload_sim_data has to be (N,N,N_measurements)\n",
    "        get_measurements = lambda i,j: preload_sim_data[i,j]\n",
    "    \n",
    "    data = measurement_array[:, -1] \n",
    "    \n",
    "    Sigma_inv = np.linalg.inv(Sigma_noise)\n",
    "    posterior = np.zeros((N,N))\n",
    "    #I'm not sure if this can be vectorized more since I have to individually open and close files\n",
    "    for i in t(range(N)):\n",
    "        for j in range(N):\n",
    "            #Compute prob(data|source is in (i,j))\n",
    "            #Compute first true observations that would have happened if the source was in (i,j)\n",
    "            hypothetical_observations = get_measurements(i,j)\n",
    "            posterior[i,j] = prior[i,j]*np.exp(-1/2 * weighted_norm(Sigma_inv, data-hypothetical_observations))\n",
    "    s = np.sum(posterior)\n",
    "    posterior/= s\n",
    "    return posterior"
   ]
  },
  {
   "cell_type": "code",
   "execution_count": 11,
   "id": "00e96b1f",
   "metadata": {},
   "outputs": [],
   "source": [
    "#Prior\n",
    "#Example: uniform prior\n",
    "prior = 1/N**2 * np.ones((N,N))"
   ]
  },
  {
   "cell_type": "code",
   "execution_count": 12,
   "id": "833f74eb",
   "metadata": {},
   "outputs": [],
   "source": [
    "#How much noise do we assume that the measurements had? In units of the measurements\n",
    "#Assuming here that all the sensors are independent and with the same noise\n",
    "n_measurements = measurement_array.shape[0]\n",
    "sigma = 0.01 \n",
    "Sigma_noise = sigma**2*np.eye(n_measurements) "
   ]
  },
  {
   "cell_type": "code",
   "execution_count": 13,
   "id": "65d6e653",
   "metadata": {
    "scrolled": false
   },
   "outputs": [
    {
     "data": {
      "application/vnd.jupyter.widget-view+json": {
       "model_id": "73cd4ed87db94260b264dfe1648f80c3",
       "version_major": 2,
       "version_minor": 0
      },
      "text/plain": [
       "  0%|          | 0/80 [00:00<?, ?it/s]"
      ]
     },
     "metadata": {},
     "output_type": "display_data"
    },
    {
     "ename": "FileNotFoundError",
     "evalue": "[Errno 2] No such file or directory: '/home/pau/Documents/DataHotIPs/source_0_0.npy'",
     "output_type": "error",
     "traceback": [
      "\u001b[0;31m---------------------------------------------------------------------------\u001b[0m",
      "\u001b[0;31mFileNotFoundError\u001b[0m                         Traceback (most recent call last)",
      "\u001b[0;32m/var/folders/_6/ychcj4sn5k7cygz_qf48c5680000gn/T/ipykernel_64092/2800506444.py\u001b[0m in \u001b[0;36m<module>\u001b[0;34m\u001b[0m\n\u001b[0;32m----> 1\u001b[0;31m \u001b[0mposterior\u001b[0m \u001b[0;34m=\u001b[0m \u001b[0mcompute_posterior\u001b[0m\u001b[0;34m(\u001b[0m\u001b[0mprior\u001b[0m \u001b[0;34m=\u001b[0m \u001b[0mprior\u001b[0m\u001b[0;34m,\u001b[0m \u001b[0mmeasurement_array\u001b[0m\u001b[0;34m=\u001b[0m\u001b[0mmeasurement_array\u001b[0m\u001b[0;34m,\u001b[0m \u001b[0mSigma_noise\u001b[0m\u001b[0;34m=\u001b[0m\u001b[0mSigma_noise\u001b[0m\u001b[0;34m)\u001b[0m\u001b[0;34m\u001b[0m\u001b[0;34m\u001b[0m\u001b[0m\n\u001b[0m",
      "\u001b[0;32m/var/folders/_6/ychcj4sn5k7cygz_qf48c5680000gn/T/ipykernel_64092/354012340.py\u001b[0m in \u001b[0;36mcompute_posterior\u001b[0;34m(prior, measurement_array, Sigma_noise, preload_sim_data)\u001b[0m\n\u001b[1;32m     24\u001b[0m             \u001b[0;31m#Compute prob(data|source is in (i,j))\u001b[0m\u001b[0;34m\u001b[0m\u001b[0;34m\u001b[0m\u001b[0m\n\u001b[1;32m     25\u001b[0m             \u001b[0;31m#Compute first true observations that would have happened if the source was in (i,j)\u001b[0m\u001b[0;34m\u001b[0m\u001b[0;34m\u001b[0m\u001b[0m\n\u001b[0;32m---> 26\u001b[0;31m             \u001b[0mhypothetical_observations\u001b[0m \u001b[0;34m=\u001b[0m \u001b[0mget_measurements\u001b[0m\u001b[0;34m(\u001b[0m\u001b[0mi\u001b[0m\u001b[0;34m,\u001b[0m\u001b[0mj\u001b[0m\u001b[0;34m)\u001b[0m\u001b[0;34m\u001b[0m\u001b[0;34m\u001b[0m\u001b[0m\n\u001b[0m\u001b[1;32m     27\u001b[0m             \u001b[0mposterior\u001b[0m\u001b[0;34m[\u001b[0m\u001b[0mi\u001b[0m\u001b[0;34m,\u001b[0m\u001b[0mj\u001b[0m\u001b[0;34m]\u001b[0m \u001b[0;34m=\u001b[0m \u001b[0mprior\u001b[0m\u001b[0;34m[\u001b[0m\u001b[0mi\u001b[0m\u001b[0;34m,\u001b[0m\u001b[0mj\u001b[0m\u001b[0;34m]\u001b[0m\u001b[0;34m*\u001b[0m\u001b[0mnp\u001b[0m\u001b[0;34m.\u001b[0m\u001b[0mexp\u001b[0m\u001b[0;34m(\u001b[0m\u001b[0;34m-\u001b[0m\u001b[0;36m1\u001b[0m\u001b[0;34m/\u001b[0m\u001b[0;36m2\u001b[0m \u001b[0;34m*\u001b[0m \u001b[0mweighted_norm\u001b[0m\u001b[0;34m(\u001b[0m\u001b[0mSigma_inv\u001b[0m\u001b[0;34m,\u001b[0m \u001b[0mdata\u001b[0m\u001b[0;34m-\u001b[0m\u001b[0mhypothetical_observations\u001b[0m\u001b[0;34m)\u001b[0m\u001b[0;34m)\u001b[0m\u001b[0;34m\u001b[0m\u001b[0;34m\u001b[0m\u001b[0m\n\u001b[1;32m     28\u001b[0m     \u001b[0ms\u001b[0m \u001b[0;34m=\u001b[0m \u001b[0mnp\u001b[0m\u001b[0;34m.\u001b[0m\u001b[0msum\u001b[0m\u001b[0;34m(\u001b[0m\u001b[0mposterior\u001b[0m\u001b[0;34m)\u001b[0m\u001b[0;34m\u001b[0m\u001b[0;34m\u001b[0m\u001b[0m\n",
      "\u001b[0;32m/var/folders/_6/ychcj4sn5k7cygz_qf48c5680000gn/T/ipykernel_64092/354012340.py\u001b[0m in \u001b[0;36m<lambda>\u001b[0;34m(i, j)\u001b[0m\n\u001b[1;32m     10\u001b[0m         \u001b[0;32mfor\u001b[0m \u001b[0mi\u001b[0m \u001b[0;32min\u001b[0m \u001b[0mrange\u001b[0m\u001b[0;34m(\u001b[0m\u001b[0mlen\u001b[0m\u001b[0;34m(\u001b[0m\u001b[0mmeasurement_array\u001b[0m\u001b[0;34m)\u001b[0m\u001b[0;34m)\u001b[0m\u001b[0;34m:\u001b[0m\u001b[0;34m\u001b[0m\u001b[0;34m\u001b[0m\u001b[0m\n\u001b[1;32m     11\u001b[0m             \u001b[0mmeasurement_mask\u001b[0m\u001b[0;34m[\u001b[0m\u001b[0mint\u001b[0m\u001b[0;34m(\u001b[0m\u001b[0mmeasurement_array\u001b[0m\u001b[0;34m[\u001b[0m\u001b[0mi\u001b[0m\u001b[0;34m,\u001b[0m\u001b[0;36m0\u001b[0m\u001b[0;34m]\u001b[0m\u001b[0;34m)\u001b[0m\u001b[0;34m,\u001b[0m \u001b[0mint\u001b[0m\u001b[0;34m(\u001b[0m\u001b[0mmeasurement_array\u001b[0m\u001b[0;34m[\u001b[0m\u001b[0mi\u001b[0m\u001b[0;34m,\u001b[0m\u001b[0;36m1\u001b[0m\u001b[0;34m]\u001b[0m\u001b[0;34m)\u001b[0m\u001b[0;34m,\u001b[0m \u001b[0mint\u001b[0m\u001b[0;34m(\u001b[0m\u001b[0mmeasurement_array\u001b[0m\u001b[0;34m[\u001b[0m\u001b[0mi\u001b[0m\u001b[0;34m,\u001b[0m\u001b[0;36m2\u001b[0m\u001b[0;34m]\u001b[0m\u001b[0;34m)\u001b[0m\u001b[0;34m]\u001b[0m \u001b[0;34m=\u001b[0m \u001b[0;32mTrue\u001b[0m\u001b[0;34m\u001b[0m\u001b[0;34m\u001b[0m\u001b[0m\n\u001b[0;32m---> 12\u001b[0;31m         \u001b[0mget_measurements\u001b[0m \u001b[0;34m=\u001b[0m \u001b[0;32mlambda\u001b[0m \u001b[0mi\u001b[0m\u001b[0;34m,\u001b[0m\u001b[0mj\u001b[0m\u001b[0;34m:\u001b[0m \u001b[0mnp\u001b[0m\u001b[0;34m.\u001b[0m\u001b[0mload\u001b[0m\u001b[0;34m(\u001b[0m\u001b[0mnamefile\u001b[0m\u001b[0;34m(\u001b[0m\u001b[0mi\u001b[0m\u001b[0;34m,\u001b[0m\u001b[0mj\u001b[0m\u001b[0;34m)\u001b[0m\u001b[0;34m)\u001b[0m\u001b[0;34m[\u001b[0m\u001b[0mmeasurement_mask\u001b[0m\u001b[0;34m]\u001b[0m\u001b[0;34m\u001b[0m\u001b[0;34m\u001b[0m\u001b[0m\n\u001b[0m\u001b[1;32m     13\u001b[0m     \u001b[0;32melse\u001b[0m\u001b[0;34m:\u001b[0m\u001b[0;34m\u001b[0m\u001b[0;34m\u001b[0m\u001b[0m\n\u001b[1;32m     14\u001b[0m         \u001b[0;31m#preload_sim_data has to be (N,N,N_measurements)\u001b[0m\u001b[0;34m\u001b[0m\u001b[0;34m\u001b[0m\u001b[0m\n",
      "\u001b[0;32m~/opt/anaconda3/envs/porepy/lib/python3.9/site-packages/numpy/lib/npyio.py\u001b[0m in \u001b[0;36mload\u001b[0;34m(file, mmap_mode, allow_pickle, fix_imports, encoding)\u001b[0m\n\u001b[1;32m    415\u001b[0m             \u001b[0mown_fid\u001b[0m \u001b[0;34m=\u001b[0m \u001b[0;32mFalse\u001b[0m\u001b[0;34m\u001b[0m\u001b[0;34m\u001b[0m\u001b[0m\n\u001b[1;32m    416\u001b[0m         \u001b[0;32melse\u001b[0m\u001b[0;34m:\u001b[0m\u001b[0;34m\u001b[0m\u001b[0;34m\u001b[0m\u001b[0m\n\u001b[0;32m--> 417\u001b[0;31m             \u001b[0mfid\u001b[0m \u001b[0;34m=\u001b[0m \u001b[0mstack\u001b[0m\u001b[0;34m.\u001b[0m\u001b[0menter_context\u001b[0m\u001b[0;34m(\u001b[0m\u001b[0mopen\u001b[0m\u001b[0;34m(\u001b[0m\u001b[0mos_fspath\u001b[0m\u001b[0;34m(\u001b[0m\u001b[0mfile\u001b[0m\u001b[0;34m)\u001b[0m\u001b[0;34m,\u001b[0m \u001b[0;34m\"rb\"\u001b[0m\u001b[0;34m)\u001b[0m\u001b[0;34m)\u001b[0m\u001b[0;34m\u001b[0m\u001b[0;34m\u001b[0m\u001b[0m\n\u001b[0m\u001b[1;32m    418\u001b[0m             \u001b[0mown_fid\u001b[0m \u001b[0;34m=\u001b[0m \u001b[0;32mTrue\u001b[0m\u001b[0;34m\u001b[0m\u001b[0;34m\u001b[0m\u001b[0m\n\u001b[1;32m    419\u001b[0m \u001b[0;34m\u001b[0m\u001b[0m\n",
      "\u001b[0;31mFileNotFoundError\u001b[0m: [Errno 2] No such file or directory: '/home/pau/Documents/DataHotIPs/source_0_0.npy'"
     ]
    }
   ],
   "source": [
    "posterior = compute_posterior(prior = prior, measurement_array=measurement_array, Sigma_noise=Sigma_noise)"
   ]
  },
  {
   "cell_type": "code",
   "execution_count": 189,
   "id": "8460517b",
   "metadata": {},
   "outputs": [
    {
     "data": {
      "text/plain": [
       "<matplotlib.colorbar.Colorbar at 0x7f6c7f138d90>"
      ]
     },
     "execution_count": 189,
     "metadata": {},
     "output_type": "execute_result"
    },
    {
     "data": {
      "image/png": "[encoded data removed]",
      "text/plain": [
       "<Figure size 432x288 with 2 Axes>"
      ]
     },
     "metadata": {
      "needs_background": "light"
     },
     "output_type": "display_data"
    }
   ],
   "source": [
    "plt.imshow(posterior)\n",
    "plt.colorbar()"
   ]
  },
  {
   "cell_type": "code",
   "execution_count": null,
   "id": "719d146d",
   "metadata": {},
   "outputs": [],
   "source": []
  }
 ],
 "metadata": {
  "interpreter": {
   "hash": "43e28883dfd2193a82dc824ab0215c5454e30ee6978a278cbf6e10e44db4f48d"
  },
  "kernelspec": {
   "display_name": "Python 3.9.7 64-bit ('porepy': conda)",
   "name": "python3"
  },
  "language_info": {
   "codemirror_mode": {
    "name": "ipython",
    "version": 3
   },
   "file_extension": ".py",
   "mimetype": "text/x-python",
   "name": "python",
   "nbconvert_exporter": "python",
   "pygments_lexer": "ipython3",
   "version": "3.9.7"
  }
 },
 "nbformat": 4,
 "nbformat_minor": 5
}
