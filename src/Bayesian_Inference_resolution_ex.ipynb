{
 "cells": [
  {
   "cell_type": "code",
   "execution_count": 1,
   "id": "edf90294",
   "metadata": {},
   "outputs": [],
   "source": [
    "import matplotlib.pyplot as plt\n",
    "import numpy as np\n",
    "from run_forward_model import generate_model_config, run_model\n",
    "from multiprocessing import Pool\n",
    "from itertools import repeat"
   ]
  },
  {
   "cell_type": "code",
   "execution_count": 2,
   "id": "7b58cb74",
   "metadata": {},
   "outputs": [],
   "source": [
    "# Coarse forward model configuration\n",
    "Nx = Ny = 10\n",
    "time_step = 1.0\n",
    "tmax = 10\n",
    "\n",
    "# Space-time measurement locations\n",
    "sensor_times = np.arange(0, tmax, step = time_step)\n",
    "Nt = len(sensor_times)\n",
    "sensor_locs = np.random.choice(a=[True, False], size=(Nx,Ny), p=[1.0,0.0])\n",
    "measurement_array = np.repeat([sensor_locs], Nt, axis = 0)\n",
    "n_meas = measurement_array.sum()\n",
    "\n",
    "base_args = {\n",
    "    # Grid parameters\n",
    "    \"time_step\": time_step,\n",
    "    \"tmax\": tmax,\n",
    "    \"Nx\": Nx,\n",
    "    \"Ny\": Ny,\n",
    "    \"widthx\": 80,\n",
    "    \"widthy\": 80,\n",
    "    # Model parameters\n",
    "    \"source_strength\": np.array([1.0]),\n",
    "    \"source_locations\": np.array([[60, 60]]),\n",
    "    \"velocity_field\": np.array([-1.0, -1.0]),\n",
    "    \"diffusion_coefficent\": 10.0,\n",
    "    \"sensor_times\": sensor_times,\n",
    "}\n",
    "\n",
    "# Model config\n",
    "config = generate_model_config(**base_args)\n",
    "model_grid = config[\"gb\"].get_grids()[0]\n"
   ]
  },
  {
   "cell_type": "code",
   "execution_count": 3,
   "id": "e6b0d3a0",
   "metadata": {},
   "outputs": [],
   "source": [
    "# 1. Generate true data\n",
    "true_args = dict(base_args, **{\n",
    "    \"Nx\": base_args[\"Nx\"] * 2,\n",
    "    \"Ny\": base_args[\"Ny\"] * 2,\n",
    "    \"source_strength\": base_args[\"source_strength\"] * 4\n",
    "})\n",
    "true_config = generate_model_config(**true_args)\n",
    "true_data, gb_true = run_model(\n",
    "    true_config, save_output=False,\n",
    "    coarsegrain_output=True, coarse_grid=model_grid,\n",
    "    create_gif=True\n",
    ")"
   ]
  },
  {
   "cell_type": "code",
   "execution_count": 4,
   "id": "956966f9",
   "metadata": {},
   "outputs": [],
   "source": [
    "def weighted_norm(Sigma_inv, x):\n",
    "    return x.T@Sigma_inv@x\n",
    "\n",
    "def posterior_sample_func(config, point_prior, Sigma_inv, true_data, measurement_array):\n",
    "    hypothetical_obs, _ = run_model(config, save_output=False)\n",
    "    hypo_obs = hypothetical_obs.reshape((len(measurement_array), config[\"Nx\"], config[\"Ny\"]))[measurement_array]\n",
    "    return point_prior * np.exp(-1/2 * weighted_norm(Sigma_inv, true_data-hypo_obs))\n",
    "\n",
    "def compute_posterior(prior, Sigma_noise, measurement_array, base_config):\n",
    "    # Perturb true data with measurement noise\n",
    "    n_meas = measurement_array.sum()\n",
    "    Nt = len(base_config[\"sensor_times\"])\n",
    "    noise = np.random.multivariate_normal(mean = np.zeros(n_meas), cov = Sigma_noise)\n",
    "    data = true_data.reshape((Nt, base_config[\"Nx\"], base_config[\"Ny\"]))[measurement_array] + noise\n",
    "\n",
    "    # Compute list of arguments for `posterior_sample_func` for parallel computation\n",
    "    Sigma_inv = np.linalg.inv(Sigma_noise)    \n",
    "    update_source_loc = lambda x: dict(base_config, **{\"source_locations\": x})\n",
    "    source_configs = [update_source_loc(np.atleast_2d(x)) for x in model_grid.cell_centers[:2,:].T]\n",
    "    func_args = zip(source_configs, prior, repeat(Sigma_inv), repeat(data), repeat(measurement_array))\n",
    "    \n",
    "    with Pool() as p:\n",
    "        posterior = p.starmap(posterior_sample_func, func_args)\n",
    "    \n",
    "    posterior = np.array(posterior)\n",
    "    posterior /= np.sum(posterior)\n",
    "    return posterior.reshape((Nx, Ny))"
   ]
  },
  {
   "cell_type": "code",
   "execution_count": 5,
   "id": "3991078a",
   "metadata": {},
   "outputs": [],
   "source": [
    "# Prior\n",
    "prior = np.ones(Nx*Ny) / (Nx*Ny)\n",
    "\n",
    "# Measurement noise\n",
    "sigma = 0.05 \n",
    "Sigma_noise = (sigma**2) * np.eye(n_meas)  # Assuming here that all the sensors are independent and with the same noise\n",
    "\n",
    "# Compute posterior\n",
    "posterior = compute_posterior(prior, Sigma_noise, measurement_array, config)"
   ]
  },
  {
   "cell_type": "code",
   "execution_count": 6,
   "id": "450a2e8b",
   "metadata": {},
   "outputs": [
    {
     "data": {
      "text/plain": [
       "<matplotlib.legend.Legend at 0x13d646d50>"
      ]
     },
     "execution_count": 6,
     "metadata": {},
     "output_type": "execute_result"
    },
    {
     "data": {
      "image/png": "[encoded data removed]",
      "text/plain": [
       "<Figure size 432x288 with 2 Axes>"
      ]
     },
     "metadata": {
      "needs_background": "light"
     },
     "output_type": "display_data"
    }
   ],
   "source": [
    "plt.imshow(posterior, origin=\"lower\", extent=[0, config[\"widthx\"], 0, config[\"widthy\"]])\n",
    "plt.title(fr'$\\sigma={sigma}$, sensors everywhere')\n",
    "plt.plot(*config[\"source_locations\"][0],'x', color = 'white', markersize = 10, label = 'true source')\n",
    "slocs = model_grid.cell_centers[:2, sensor_locs.flatten()]\n",
    "plt.scatter(slocs[0], slocs[1], c = \"red\", s = 3)\n",
    "plt.colorbar()\n",
    "plt.legend()"
   ]
  }
 ],
 "metadata": {
  "kernelspec": {
   "display_name": "Python 3",
   "language": "python",
   "name": "python3"
  },
  "language_info": {
   "codemirror_mode": {
    "name": "ipython",
    "version": 3
   },
   "file_extension": ".py",
   "mimetype": "text/x-python",
   "name": "python",
   "nbconvert_exporter": "python",
   "pygments_lexer": "ipython3",
   "version": "3.7.11"
  }
 },
 "nbformat": 4,
 "nbformat_minor": 5
}
