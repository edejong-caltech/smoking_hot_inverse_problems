{
 "cells": [
  {
   "cell_type": "markdown",
   "metadata": {},
   "source": [
    "# Assembly and solution of an advection-diffusion equation\n",
    "\n",
    "Consider the system\n",
    "$$ \\dfrac{\\partial c}{\\partial t} + \\mathbf{u} \\cdot \\nabla c = \\nabla \\cdot D \\nabla T + S $$\n",
    "where $c\\in\\mathbb{R}$ is a tracer, $D$ is a diffusion tensor (possibly homogeneous and isotropic, in which case $D(x) = dI_{n}$), $\\mathbf{u}$ is the flow field, $S$ is some source, and $d$ is the spatial dimension (e.g. $d=2$).\n",
    "\n",
    "This notebook demonstrates how a transient problem may be solved in PorePy. We consider the advective-diffusive tracer transport problem for a prescribed flow field.\n"
   ]
  },
  {
   "cell_type": "code",
   "execution_count": 1,
   "metadata": {},
   "outputs": [],
   "source": [
    "import numpy as np\n",
    "import scipy.sparse as sps\n",
    "\n",
    "import porepy as pp"
   ]
  },
  {
   "cell_type": "code",
   "execution_count": 71,
   "metadata": {},
   "outputs": [],
   "source": [
    "def add_transport_data(g, d, parameter_keyword):\n",
    "    # Method to assign data.\n",
    "    # Boundary conditions: zero Dirichlet everywhere\n",
    "    b_faces = g.tags[\"domain_boundary_faces\"].nonzero()[0]\n",
    "    bc_val = np.zeros(g.num_faces)\n",
    "    labels = np.array([\"dir\"] * b_faces.size)\n",
    "    bc = pp.BoundaryCondition(g, b_faces, labels)\n",
    "\n",
    "    # velocity field (on faces)\n",
    "    flux_vals = - np.ones(g.num_faces)\n",
    "\n",
    "    # diffusion coefficient\n",
    "    diffusion = 1.0 * np.ones(g.num_cells)\n",
    "    diff = pp.SecondOrderTensor(diffusion)\n",
    "\n",
    "    # source term\n",
    "    f = np.zeros(g.num_cells)\n",
    "    f[int(g.num_cells / 2) + 10] = 1.0\n",
    "\n",
    "    # Inherit the aperture assigned for the flow problem\n",
    "    specified_parameters = {\n",
    "        \"bc\": bc,\n",
    "        \"bc_values\": bc_val,\n",
    "        \"time_step\": 1 / 2,\n",
    "        \"mass_weight\": 1.0,\n",
    "        \"t_max\": 10.0,\n",
    "        \"darcy_flux\": flux_vals,\n",
    "        \"second_order_tensor\": diff,\n",
    "        \"source\": f\n",
    "        }\n",
    "    pp.initialize_default_data(g, d, parameter_keyword, specified_parameters)"
   ]
  },
  {
   "cell_type": "markdown",
   "metadata": {},
   "source": [
    "We start by making a grid bucket, pecifying the keywords for the parameters of the flow and transport problem, respectively. Then we assigne the problem data and visualize the domain."
   ]
  },
  {
   "cell_type": "code",
   "execution_count": 72,
   "metadata": {},
   "outputs": [
    {
     "data": {
      "image/png": "[encoded data removed]",
      "text/plain": [
       "<Figure size 1080x864 with 1 Axes>"
      ]
     },
     "metadata": {
      "needs_background": "light"
     },
     "output_type": "display_data"
    }
   ],
   "source": [
    "# Create grid\n",
    "from porepy.fracs.meshing import grid_list_to_grid_bucket\n",
    "n = 20\n",
    "g = pp.CartGrid([n,n])\n",
    "gb = grid_list_to_grid_bucket([[g]])\n",
    "g = gb.get_grids()[0]\n",
    "d = gb.node_props(g)\n",
    "kw_t = 'transport'\n",
    "# Transport related parameters \n",
    "add_transport_data(g, d, kw_t)\n",
    "pp.plot_grid(gb, figsize=(15, 12))"
   ]
  },
  {
   "cell_type": "markdown",
   "metadata": {},
   "source": [
    "Prepare for assembly of the transport problem. The procedure is similar to the one above for the flow problem. Here, the purely advective case is shown, but a diffusive term may easily be added."
   ]
  },
  {
   "cell_type": "code",
   "execution_count": 73,
   "metadata": {},
   "outputs": [],
   "source": [
    "grid_variable = \"tracer\"\n",
    "\n",
    "# Identifier of the discretization operator on each grid\n",
    "advection_term = \"advection\"\n",
    "source_term = \"source\"\n",
    "mass_term = \"mass\"\n",
    "diffusion_term = 'diffusion'\n",
    "\n",
    "# Discretization objects\n",
    "node_discretization = pp.Upwind(kw_t)\n",
    "source_discretization = pp.ScalarSource(kw_t)\n",
    "mass_discretization = pp.MassMatrix(kw_t)\n",
    "diffusion_discretization = pp.Tpfa(kw_t)\n",
    "\n",
    "# Assign primary variables on this grid. It has one degree of freedom per cell.\n",
    "d[pp.PRIMARY_VARIABLES] = {grid_variable: {\"cells\": 1, \"faces\": 0}}\n",
    "# Assign discretization operator for the variable.\n",
    "d[pp.DISCRETIZATION] = {\n",
    "    grid_variable: {\n",
    "        advection_term: node_discretization,\n",
    "        source_term: source_discretization,\n",
    "        mass_term: mass_discretization,\n",
    "        diffusion_term: diffusion_discretization,\n",
    "    }\n",
    "}"
   ]
  },
  {
   "cell_type": "markdown",
   "metadata": {},
   "source": [
    "Assemble the linear system, using the information stored in the GridBucket. By not adding the matrices, we can arrange them at will to obtain the efficient solver defined below, which LU factorizes the system only once for all time steps."
   ]
  },
  {
   "cell_type": "code",
   "execution_count": 74,
   "metadata": {},
   "outputs": [],
   "source": [
    "assembler = pp.Assembler(gb)\n",
    "\n",
    "# Discretize all terms\n",
    "assembler.discretize()\n",
    "\n",
    "# Assemble the linear system, using the information stored in the GridBucket\n",
    "A, b = assembler.assemble_matrix_rhs()\n",
    "\n",
    "tracer_sol = sps.linalg.spsolve(A, b)\n",
    "\n",
    "assembler.distribute_variable(tracer_sol)"
   ]
  },
  {
   "cell_type": "code",
   "execution_count": 75,
   "metadata": {},
   "outputs": [
    {
     "name": "stderr",
     "output_type": "stream",
     "text": [
      "/Users/haakon/miniconda3/envs/gts/lib/python3.7/site-packages/scipy/sparse/linalg/dsolve/linsolve.py:318: SparseEfficiencyWarning: splu requires CSC matrix format\n",
      "  warn('splu requires CSC matrix format', SparseEfficiencyWarning)\n"
     ]
    }
   ],
   "source": [
    "# Use a filter to let the assembler consider grid and mortar variable only\n",
    "filt = pp.assembler_filters.ListFilter(variable_list=[grid_variable])\n",
    "\n",
    "assembler = pp.Assembler(gb)\n",
    "\n",
    "assembler.discretize(filt=filt)\n",
    "\n",
    "A, b = assembler.assemble_matrix_rhs(\n",
    "    filt=filt, add_matrices=False\n",
    ")\n",
    "\n",
    "mass_term += \"_\" + grid_variable\n",
    "advection_term += \"_\" + grid_variable\n",
    "source_term += \"_\" + grid_variable\n",
    "diffusion_term += \"_\" + grid_variable\n",
    "\n",
    "time_step = d[pp.PARAMETERS][kw_t][\"time_step\"]\n",
    "t_max = d[pp.PARAMETERS][kw_t][\"t_max\"]\n",
    "\n",
    "lhs = A[mass_term] + time_step * (\n",
    "    A[advection_term] + A[diffusion_term]\n",
    ")\n",
    "rhs_source_adv = b[source_term] + time_step * (\n",
    "    b[advection_term] + b[diffusion_term]\n",
    ")\n",
    "\n",
    "IEsolver = sps.linalg.factorized(lhs)"
   ]
  },
  {
   "cell_type": "markdown",
   "metadata": {},
   "source": [
    "Prepare for solving the transient problem and exporting the solution."
   ]
  },
  {
   "cell_type": "code",
   "execution_count": 76,
   "metadata": {},
   "outputs": [],
   "source": [
    "save_every = 1\n",
    "n_steps = int(np.round(t_max / time_step))\n",
    "\n",
    "# Initial condition\n",
    "tracer = np.zeros(rhs_source_adv.size)\n",
    "assembler.distribute_variable(\n",
    "    tracer, variable_names=[grid_variable]\n",
    ")\n",
    "\n",
    "# Exporter\n",
    "folder = \"tracer_transport\"\n",
    "exporter = pp.Exporter(gb, file_name=\"tracer\", folder_name=folder)\n",
    "export_fields = [\"tracer\"]"
   ]
  },
  {
   "cell_type": "markdown",
   "metadata": {},
   "source": [
    "Solve the tracer transport problem in a time loop, exporting for some of the steps."
   ]
  },
  {
   "cell_type": "code",
   "execution_count": 77,
   "metadata": {},
   "outputs": [],
   "source": [
    "for i in range(n_steps):\n",
    "    \n",
    "    if np.isclose(i % save_every, 0):\n",
    "        # Export existing solution (final export is taken care of below)\n",
    "        assembler.distribute_variable(\n",
    "        tracer,\n",
    "        variable_names=[grid_variable],\n",
    "    )\n",
    "        exporter.write_vtu(export_fields, time_step=int(i // save_every))\n",
    "    tracer = IEsolver(A[mass_term] * tracer + rhs_source_adv)\n",
    "\n",
    "    \n",
    "    \n",
    "\n",
    "exporter.write_vtu(export_fields, time_step=(n_steps // save_every))\n",
    "time_steps = np.arange(\n",
    "    0, t_max + time_step, save_every * time_step\n",
    ")\n",
    "exporter.write_pvd(time_steps)"
   ]
  },
  {
   "cell_type": "markdown",
   "metadata": {},
   "source": [
    "We plot the final tracer distribution."
   ]
  },
  {
   "cell_type": "code",
   "execution_count": 78,
   "metadata": {},
   "outputs": [
    {
     "data": {
      "image/png": "[encoded data removed]",
      "text/plain": [
       "<Figure size 1080x864 with 2 Axes>"
      ]
     },
     "metadata": {
      "needs_background": "light"
     },
     "output_type": "display_data"
    }
   ],
   "source": [
    "pp.plot_grid(gb, grid_variable, figsize=(15, 12))"
   ]
  },
  {
   "cell_type": "code",
   "execution_count": null,
   "metadata": {},
   "outputs": [],
   "source": []
  }
 ],
 "metadata": {
  "interpreter": {
   "hash": "ec06dcd3b8bd040b38e434ebc736f0b96d0d23eb547897b45a9edbe113ff6690"
  },
  "kernelspec": {
   "display_name": "Python 3.7.11 64-bit ('gts': conda)",
   "name": "python3"
  },
  "language_info": {
   "codemirror_mode": {
    "name": "ipython",
    "version": 3
   },
   "file_extension": ".py",
   "mimetype": "text/x-python",
   "name": "python",
   "nbconvert_exporter": "python",
   "pygments_lexer": "ipython3",
   "version": "3.7.11"
  }
 },
 "nbformat": 4,
 "nbformat_minor": 2
}
