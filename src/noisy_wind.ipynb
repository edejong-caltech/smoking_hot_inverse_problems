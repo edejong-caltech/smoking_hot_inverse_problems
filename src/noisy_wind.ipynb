{
 "cells": [
  {
   "cell_type": "code",
   "execution_count": 1,
   "id": "edf90294",
   "metadata": {},
   "outputs": [],
   "source": [
    "import matplotlib.pyplot as plt\n",
    "import numpy as np\n",
    "from tqdm.notebook import tqdm as t\n",
    "from run_adv_diff_copy import run_toy_model\n",
    "\n",
    "#Change lines below to match name of the directory and names of the files\n",
    "\n",
    "data_dir = \"/mnt/c/Users/laure/Documents/smoking_hot_inverse_problems/src/data/\"\n",
    "namefile_truth = lambda i,j: data_dir + 'sensor_data'+str(i)+'_'+str(j)+'.npy' #measurements noisy wind\n",
    "namefile_hypot = lambda i,j: data_dir + 'sample_data'+str(i)+'_'+str(j)+'.npy'\n",
    "\n",
    "#Parameters of the grid\n",
    "Ntimes = 119\n",
    "N = 80"
   ]
  },
  {
   "cell_type": "code",
   "execution_count": 2,
   "id": "db7b684f",
   "metadata": {},
   "outputs": [],
   "source": [
    "def weighted_norm(Sigma_inv, x):\n",
    "    return x.T@Sigma_inv@x\n",
    "\n",
    "def compute_posterior(prior, true_source, measurement_array, Sigma_noise, preload_data = None, preload_measurements = None):\n",
    "\n",
    "    if preload_data is None:\n",
    "        #Generate random data\n",
    "        True_measurements = np.reshape(np.load(namefile_truth(*true_source)),(Ntimes,N,N))[measurement_array]\n",
    "        noise = np.random.multivariate_normal(mean = [0]*n_measurements, cov = Sigma_noise)\n",
    "        data = True_measurements + noise\n",
    "    else: \n",
    "        data = preload_data\n",
    "    \n",
    "    if preload_measurements is None:\n",
    "        #Will load the matrices from disk\n",
    "        get_measurements = lambda i,j: np.reshape(np.load(namefile_hypot(i,j)),(Ntimes,N,N))[measurement_array]\n",
    "    else:\n",
    "        #Measurements has to be (N,N,N_measurements)\n",
    "        get_measurements = lambda i,j: preload_measurements[i,j]\n",
    "  \n",
    "    Sigma_inv = np.linalg.inv(Sigma_noise)\n",
    "    posterior = np.zeros((N,N))\n",
    "    #I'm not sure if this can be vectorized anymore since I have to individually open and close files\n",
    "    #However, it is not slow\n",
    "    for i in range(N):\n",
    "        for j in range(N):\n",
    "            #Compute prob(data|source is in (i,j))\n",
    "            #Compute first true observations that would have happened if the source was in (i,j)\n",
    "            hypothetical_observations = get_measurements(i,j)\n",
    "            posterior[i,j] = prior[i,j]*np.exp(-1/2 * weighted_norm(Sigma_inv, data-hypothetical_observations))\n",
    "            # print(data-hypothetical_observations,posterior[i,j])\n",
    "            # print(\"norm\",weighted_norm(Sigma_inv, data-hypothetical_observations))\n",
    "            # print(\"prior\",prior[i,j])\n",
    "    # print('posterior',posterior)\n",
    "    # plt.figure()\n",
    "    # plt.imshow(posterior)\n",
    "    # plt.show()\n",
    "    s = np.sum(posterior)\n",
    "    posterior/= s\n",
    "    return posterior"
   ]
  },
  {
   "cell_type": "code",
   "execution_count": 113,
   "id": "f286b383",
   "metadata": {},
   "outputs": [],
   "source": [
    "#Example parameters to run the function\n",
    "true_source = (40,55) #Specifies the coordinate in the grid where one can find the true source \n",
    "#Where in the grid are we making measurements? \n",
    "#We specify it with a boolean array of shape [Ntimes, N, N], true if we are making measurements and false if not\n",
    "#The following example is 10 sensors in the diagonal at all times, giving us 10*10*119 = 1190 measurements\n",
    "measurement_array = np.zeros((Ntimes, N, N)).astype(bool)\n",
    "# sensors = [[6*i+(i%3)*8, 6*i] for i in range(1,11)] #\n",
    "# sensors = [[40,30],[45,30],[50,30],[55,30],[60,30],[65,30],[70,30],[40,35],[40,40],[40,45],[40,50]] #\n",
    "sensors = [[40,30],[50,30],[60,30],[40,40],[40,50]] #\n",
    "\n",
    "# sensors = [[10,10],[30,10],[50,10],[70,10],\n",
    "#            [10,30],[30,30],[50,30],[70,30],\n",
    "#            [10,50],[30,50],[50,50],[70,50],\n",
    "#            [10,70],[30,70],[50,70],[70,70]] #\n",
    "n_measurements = 0\n",
    "for i in range(Ntimes):\n",
    "    for sensor in sensors:\n",
    "        measurement_array[i, sensor[0], sensor[1]] = True\n",
    "        n_measurements +=1"
   ]
  },
  {
   "cell_type": "code",
   "execution_count": 114,
   "id": "00e96b1f",
   "metadata": {},
   "outputs": [],
   "source": [
    "#Example uniform prior\n",
    "prior = 1/N**2 * np.ones((N,N))\n",
    "# print(n_measurements)\n",
    "# print(sensors,len(sensors)*119)\n",
    "# print([[6*i+(i%3)*7, 6*i] for i in range(1,11)])"
   ]
  },
  {
   "cell_type": "code",
   "execution_count": 152,
   "id": "1898a257",
   "metadata": {
    "scrolled": true
   },
   "outputs": [],
   "source": [
    "#An example of precomputed measurements: \n",
    "# precomputed_data = np.zeros((N,N,n_measurements))\n",
    "# for i in t(range(N)):\n",
    "#     for j in range(N):\n",
    "#         precomputed_data[i,j] = np.reshape(np.load(namefile(i,j)), (Ntimes,N,N))[measurement_array]\n",
    "# precomputed_data = np.zeros((N,N,n_measurements))\n",
    "n = N  # GRID DIMENSION: square domain\n",
    "T = Ntimes # number of time steps, integer\n",
    "num_faces = 2*N**2 + 2*N\n",
    "num_cells = N**2            \n",
    "S = np.array([1.0])         # List: source strengths\n",
    "S_loc = np.array([[true_source[0]/N, true_source[1]/N]]) #np.array([[0.5, 0.5]]) # List: source locations in 1x1 domain\n",
    "#S_loc = np.array([[0.1, 0.6]]) #np.array([[0.5, 0.5]]) # List: source locations in 1x1 domain\n",
    "\n",
    "sense_t = list(np.arange(1,Ntimes+1))      # List: sensor output times (integer times)\n",
    "sense_loc = [[i] for i in sensors] # List: sensor locations\n",
    "\n",
    "# modify if velocity field/diff_coeff are different than default\n",
    "# u_vel = -4.0\n",
    "# v_vel = -6.0\n",
    "velocity_field = -np.ones(num_faces)*1.0+np.random.randn(num_faces)*0.001\n",
    "# print(S_loc[:,0])\n",
    "# print(S_loc)\n",
    "#D = 10.0\n",
    "diff_coeff = np.ones(num_cells)\n",
    "\n",
    "# generate windy data for this, saved as sensor_data*_*.npy\n",
    "#run_toy_model(n, S, S_loc, sense_t, sense_loc, velocity_field=velocity_field, diff_coeff=diff_coeff, create_gif=False)\n",
    "run_toy_model(n, S, S_loc, sense_t, sense_loc, velocity_field=velocity_field, create_gif=False)\n"
   ]
  },
  {
   "cell_type": "code",
   "execution_count": 116,
   "id": "35f3ce25",
   "metadata": {},
   "outputs": [
    {
     "data": {
      "text/plain": [
       "[[[40, 30]], [[50, 30]], [[60, 30]], [[40, 40]], [[40, 50]]]"
      ]
     },
     "execution_count": 116,
     "metadata": {},
     "output_type": "execute_result"
    }
   ],
   "source": [
    "sense_loc"
   ]
  },
  {
   "cell_type": "code",
   "execution_count": 117,
   "id": "c878e59d",
   "metadata": {},
   "outputs": [
    {
     "data": {
      "application/vnd.jupyter.widget-view+json": {
       "model_id": "2fe0fe2132244acf807c9c7c18bb21c7",
       "version_major": 2,
       "version_minor": 0
      },
      "text/plain": [
       "  0%|          | 0/80 [00:00<?, ?it/s]"
      ]
     },
     "metadata": {},
     "output_type": "display_data"
    }
   ],
   "source": [
    "precomputed_measurements = np.zeros((N,N,n_measurements))\n",
    "for i in t(range(N)):\n",
    "    for j in range(N):\n",
    "        precomputed_measurements[i,j] = np.reshape(np.load(namefile_hypot(i,j)),(Ntimes,N,N))[measurement_array]"
   ]
  },
  {
   "cell_type": "code",
   "execution_count": 150,
   "id": "833f74eb",
   "metadata": {},
   "outputs": [],
   "source": [
    "sigma = 0.05\n",
    "Sigma_noise = sigma**2*np.eye(n_measurements) #Assuming here that all the sensors are independent and with the same noise"
   ]
  },
  {
   "cell_type": "code",
   "execution_count": 153,
   "id": "65d6e653",
   "metadata": {
    "scrolled": true
   },
   "outputs": [],
   "source": [
    "posterior = compute_posterior(prior = prior, true_source=true_source, measurement_array=measurement_array, Sigma_noise=Sigma_noise, preload_measurements=precomputed_measurements) #, \n",
    "                 #preload_data= precomputed_data)"
   ]
  },
  {
   "cell_type": "code",
   "execution_count": 155,
   "id": "05e5638d",
   "metadata": {},
   "outputs": [
    {
     "data": {
      "image/png": "[encoded data removed]",
      "text/plain": [
       "<Figure size 432x288 with 2 Axes>"
      ]
     },
     "metadata": {
      "needs_background": "light"
     },
     "output_type": "display_data"
    }
   ],
   "source": [
    "plt.imshow(posterior)\n",
    "plt.title(r'$\\sigma=0.05$')\n",
    "plt.plot([true_source[1]],true_source[0],'x', color = 'white', markersize = 10, label = 'true source')\n",
    "plt.plot(*np.array(sensors).T, 'x', color = 'red', markersize = 5, label = 'measurements')\n",
    "plt.xticks([0,79], [0,1])\n",
    "plt.yticks([0,79], [0,1])\n",
    "\n",
    "plt.colorbar()\n",
    "plt.legend()\n",
    "plt.savefig(\"figures/wind_setup.png\")"
   ]
  },
  {
   "cell_type": "code",
   "execution_count": 143,
   "id": "aee00cb9",
   "metadata": {},
   "outputs": [
    {
     "data": {
      "application/vnd.jupyter.widget-view+json": {
       "model_id": "2e012ee515ff4ff7b96317a238f73efc",
       "version_major": 2,
       "version_minor": 0
      },
      "text/plain": [
       "  0%|          | 0/1000 [00:00<?, ?it/s]"
      ]
     },
     "metadata": {},
     "output_type": "display_data"
    }
   ],
   "source": [
    "def get_mean(distribution):\n",
    "    # normalization = (N*(N-1)/2)\n",
    "    # print( [i%N + 1 for i in range(N**2)] )\n",
    "    # print( [np.floor(i/N)+1 for i in range(N**2)] )\n",
    "    # x_coord = np.sum(distribution * [i%N + 1 for i in range(N**2)]/normalization)\n",
    "    # y_coord = np.sum(distribution * [np.floor(i/N)+1 for i in range(N**2)]/normalization)\n",
    "    coord_matx = np.zeros((N,N))\n",
    "    coord_maty = np.zeros((N,N))\n",
    "    for i in range(N):\n",
    "        for j in range(N):\n",
    "            coord_matx[i,j] = i\n",
    "            coord_maty[i,j] = j\n",
    "    x_coord = np.sum(distribution * coord_matx)\n",
    "    y_coord = np.sum(distribution * coord_maty)\n",
    "    # print(x_coord,y_coord)\n",
    "    return (x_coord,y_coord)\n",
    "\n",
    "def L2(coord1, coord2):\n",
    "    # 2 norm for now\n",
    "    return np.sqrt( (coord1[0]-coord2[0])**2 + (coord1[1]-coord2[1])**2)\n",
    "def kl_divergence(p, q):\n",
    "    return np.sum(np.where(p != 0, p * np.log(p / q), 0))\n",
    "def dTV(p,q):\n",
    "    return 1/2.0*np.sum(abs(p-q))\n",
    "def dH(p,q):\n",
    "    return np.linalg.norm(np.sqrt(p)-np.sqrt(q),ord='fro')/np.sqrt(2)\n",
    "\n",
    "number_of_batches     = 1000\n",
    "wind_levels           = [i for i in np.arange(0.0,1,0.1)]\n",
    "L2dist_from_posterior = np.zeros((len(wind_levels),number_of_batches))\n",
    "dTV_                  = np.zeros((len(wind_levels),number_of_batches))\n",
    "dH_                   = np.zeros((len(wind_levels),number_of_batches))\n",
    "\n",
    "\n",
    "denominator = np.zeros((len(wind_levels),1))\n",
    "true_distribution = np.zeros((N,N))\n",
    "true_distribution[true_source[0],true_source[1]] = 1\n",
    "\n",
    "for batch in t(range(number_of_batches)):\n",
    "    for num, wind_noise in enumerate(wind_levels):\n",
    "        velocity_field = -np.ones(num_faces)+np.random.randn(num_faces)*wind_noise\n",
    "        run_toy_model(n, S, S_loc, sense_t, sense_loc, velocity_field=velocity_field, create_gif=False)\n",
    "        posterior = compute_posterior(prior = prior, true_source=true_source, measurement_array=measurement_array, \n",
    "                                    Sigma_noise=Sigma_noise, preload_measurements=precomputed_measurements)\n",
    "        # compute mean\n",
    "        mean_val = get_mean(posterior)\n",
    "        \n",
    "        # compute distance from true \n",
    "        dist = L2(mean_val,true_source)\n",
    "        L2dist_from_posterior[num,batch] += dist\n",
    "        if abs(mean_val[0])>1e-3 or abs(mean_val[1])>1e-3:\n",
    "            denominator[num] += 1\n",
    "        div1 = dTV(posterior,true_distribution)\n",
    "        div2 = dH(true_distribution,posterior)\n",
    "        dTV_[num,batch] = div1\n",
    "        dH_[num,batch] = div2\n",
    "        # plt.imshow(posterior)\n",
    "        # plt.title(r'$\\sigma='+str(wind_noise)+'% wind noise')\n",
    "        # plt.plot(true_source[1], true_source[0],'x', color = 'white', markersize = 10, label = 'true source')\n",
    "        # plt.plot(mean_val[1],mean_val[0],'x',color='yellow',markersize = 10, label=\"mean\")\n",
    "        # plt.plot(*np.array(sensors).T, 'x', color = 'red', markersize = 5, label = 'measurements')\n",
    "        # plt.xticks([0,79], [0,1])\n",
    "        # plt.yticks([0,79], [0,1])\n",
    "        # plt.colorbar()\n",
    "        # plt.legend()\n",
    "        # plt.show()\n"
   ]
  },
  {
   "cell_type": "code",
   "execution_count": 144,
   "id": "847502b3",
   "metadata": {},
   "outputs": [],
   "source": [
    "# l2t = np.copy(L2dist_from_posterior)\n",
    "# l2t[l2t==0] = np.nan\n",
    "# print(L2dist_from_posterior)\n",
    "# print(denominator)"
   ]
  },
  {
   "cell_type": "code",
   "execution_count": 145,
   "id": "31bdfa78",
   "metadata": {},
   "outputs": [],
   "source": [
    "# process data\n",
    "\n",
    "# L2dist_from_posterior /= denominator\n",
    "# dTV_                   /= denominator\n",
    "# dH_                   /= denominator\n",
    "# L2dist_from_posterior_t  = np.trim_zeros(L2dist_from_posterior)\n",
    "# dTV_t                    = np.trim_zeros(dTV_)\n",
    "# dH_t                     = np.trim_zeros(dH_)\n",
    "L2dist_from_posterior[L2dist_from_posterior == 0]  = np.nan\n",
    "dTV_[dTV_ == 0]                                    = np.nan\n",
    "dH_[dH_ == 0]                                      = np.nan\n"
   ]
  },
  {
   "cell_type": "code",
   "execution_count": 146,
   "id": "58a390a6",
   "metadata": {},
   "outputs": [
    {
     "name": "stderr",
     "output_type": "stream",
     "text": [
      "/tmp/ipykernel_5137/3798182724.py:1: RuntimeWarning: divide by zero encountered in double_scalars\n",
      "  snr = [1/i for i in wind_levels]\n"
     ]
    },
    {
     "data": {
      "image/png": "[encoded data removed]",
      "text/plain": [
       "<Figure size 432x288 with 1 Axes>"
      ]
     },
     "metadata": {
      "needs_background": "light"
     },
     "output_type": "display_data"
    },
    {
     "data": {
      "image/png": "[encoded data removed]",
      "text/plain": [
       "<Figure size 432x288 with 1 Axes>"
      ]
     },
     "metadata": {
      "needs_background": "light"
     },
     "output_type": "display_data"
    },
    {
     "data": {
      "image/png": "[encoded data removed]",
      "text/plain": [
       "<Figure size 432x288 with 1 Axes>"
      ]
     },
     "metadata": {
      "needs_background": "light"
     },
     "output_type": "display_data"
    }
   ],
   "source": [
    "snr = [1/i for i in wind_levels]\n",
    "y1 = np.nanmean(L2dist_from_posterior,axis=1)\n",
    "e1 = np.sqrt(np.nanvar(L2dist_from_posterior,axis=1))\n",
    "plt.figure()\n",
    "plt.plot(snr,y1,'k')\n",
    "plt.fill_between(snr,y1-e1,y1+e1)\n",
    "plt.xlabel(\"SNR\")\n",
    "plt.ylabel(\"L2 distance from posterior\")\n",
    "plt.title(\"L2 Error from Assuming Constant Wind (500 trials)\")\n",
    "plt.savefig(\"figures/L2.png\")\n",
    "\n",
    "y2 = np.nanmean(dTV_,axis=1)\n",
    "e2 = np.sqrt(np.nanvar(dTV_,axis=1))\n",
    "plt.figure()\n",
    "plt.plot(snr,y2,'k')\n",
    "plt.fill_between(snr,y2-e2,y2+e2)\n",
    "plt.xlabel(\"SNR\")\n",
    "plt.ylabel(\"TV distance from posterior\")\n",
    "plt.title(\"TV Error from Assuming Constant Wind (500 trials)\")\n",
    "plt.savefig(\"figures/TV.png\")\n",
    "\n",
    "y3 = np.nanmean(dH_,axis=1)\n",
    "e3 = np.sqrt(np.nanvar(dH_,axis=1))\n",
    "plt.figure()\n",
    "plt.plot(snr,y3,'k')\n",
    "plt.fill_between(snr,y3-e3,y3+e3)\n",
    "plt.xlabel(\"SNR\")\n",
    "plt.ylabel(\"H distance from posterior\")\n",
    "plt.title(\"H Error from Assuming Constant Wind (500 trials)\")\n",
    "plt.savefig(\"figures/H.png\")"
   ]
  },
  {
   "cell_type": "code",
   "execution_count": null,
   "id": "3e06a1c5",
   "metadata": {},
   "outputs": [],
   "source": []
  }
 ],
 "metadata": {
  "kernelspec": {
   "display_name": "Python 3",
   "language": "python",
   "name": "python3"
  },
  "language_info": {
   "codemirror_mode": {
    "name": "ipython",
    "version": 3
   },
   "file_extension": ".py",
   "mimetype": "text/x-python",
   "name": "python",
   "nbconvert_exporter": "python",
   "pygments_lexer": "ipython3",
   "version": "3.9.7"
  }
 },
 "nbformat": 4,
 "nbformat_minor": 5
}
