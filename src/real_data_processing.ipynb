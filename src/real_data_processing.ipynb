{
 "cells": [
  {
   "cell_type": "markdown",
   "metadata": {},
   "source": [
    "# maps sensors in gridbox to gridpoints"
   ]
  },
  {
   "cell_type": "code",
   "execution_count": 2,
   "metadata": {},
   "outputs": [],
   "source": [
    "lat_s = 35.0\n",
    "lat_n = 40.0\n",
    "lon_e = -118.0\n",
    "lon_w = -124.0\n",
    "\n",
    "#lon,lat order"
   ]
  },
  {
   "cell_type": "code",
   "execution_count": 3,
   "metadata": {},
   "outputs": [],
   "source": [
    "def map_coords_to_grid(coords_tuple, elt= 'both', grid_size=80, lat = [lat_s,lat_n], lon = [lon_w,lon_e]):\n",
    "    '''\n",
    "    takes in tuple of (lat,lon) in degrees and maps it to values b/w 0 and 1 that fit on discretized 80**2 grid.\n",
    "    use for source location and sensor mappings\n",
    "    '''\n",
    "    lat_deg = coords_tuple[1]\n",
    "    lon_deg = coords_tuple[0]\n",
    "\n",
    "    #convert to 80sq grid\n",
    "    lat_grid = (lat_deg - lat[0])/(lat[1]-lat[0])*grid_size\n",
    "    lon_grid = (lon_deg - lon[0])/(lon[1] - lon[0])*grid_size\n",
    "\n",
    "    #round so div to 80, get to [0,1] range\n",
    "    lat_grid_01 = round(lat_grid)#/grid_size\n",
    "    lon_grid_01 = round(lon_grid)#/grid_size\n",
    "    if elt == 'lat':\n",
    "        return lat_grid_01\n",
    "    elif elt == 'lon':\n",
    "        return lon_grid_01\n",
    "    else:\n",
    "        return lon_grid_01, lat_grid_01                        \n",
    "\n",
    "la,lo = map_coords_to_grid((-119,36))"
   ]
  },
  {
   "cell_type": "code",
   "execution_count": 5,
   "metadata": {},
   "outputs": [],
   "source": [
    "def make_box(df, lat = [lat_s,lat_n], lon = [lon_w,lon_e]):\n",
    "    is_in_box = (df['Latitude']>=lat[0]) & (df['Latitude']<=lat[1]) & (df['Longitude']>=lon[0]) & (df['Longitude']<=lon[1])\n",
    "    df_filtered = df[is_in_box]\n",
    "    coords = tuple(zip(df_filtered['Longitude'],df_filtered['Latitude']))\n",
    "    df_filtered = df_filtered.assign(Coords = coords)\n",
    "    return df_filtered\n",
    "\n",
    "def select_time(df,start,end):\n",
    "    '''\n",
    "    selects times. requires a datetime coord, see code below. start, end in format 'Year-Mo-da hr:mn:sc'\n",
    "    '''\n",
    "    is_in_box = (df['Datetime']>=start) & (df['Datetime']<=end)\n",
    "    df_filtered = df[is_in_box]\n",
    "    return df_filtered    \n"
   ]
  },
  {
   "cell_type": "markdown",
   "metadata": {},
   "source": [
    "# pm 2.5"
   ]
  },
  {
   "cell_type": "code",
   "execution_count": 8,
   "metadata": {},
   "outputs": [],
   "source": [
    "#read in excel spreadsheets filtered wind df data\n",
    "\n",
    "import pandas as pd\n",
    "pm25 = pd.read_excel(\"../data/hourly_pm25_CA_filtered.xlsx\") #needs conda install openpyxl\n"
   ]
  },
  {
   "cell_type": "code",
   "execution_count": 9,
   "metadata": {},
   "outputs": [],
   "source": [
    "\n",
    "pm25_filtered = make_box(pm25)\n",
    "\n",
    "#add datetime coord\n",
    "pm25_filtered = pm25_filtered.assign(Datetime = pd.to_datetime(pm25_filtered['Date Local'].astype(str)+' '+pm25_filtered['Time Local'].astype(str)))\n",
    "\n",
    "#filter extra cols\n",
    "pm25_filtered = pm25_filtered[['Datetime', 'Sample Measurement','Coords']]\n",
    "\n",
    "#get x,y to work properly \n",
    "pm25_filtered = pm25_filtered.assign(x = [map_coords_to_grid(i,'lon') for i in (pm25_filtered['Coords'])])\n",
    "pm25_filtered = pm25_filtered.assign(y = [map_coords_to_grid(i,'lat') for i in (pm25_filtered['Coords'])])\n"
   ]
  },
  {
   "cell_type": "code",
   "execution_count": 11,
   "metadata": {},
   "outputs": [],
   "source": [
    "\n",
    "#finish making t\n",
    "import numpy as np\n",
    "\n",
    "pm25_filtered_1day = select_time(pm25_filtered, '2018-11-08 05:00:00', '2018-11-09 05:00:00')\n",
    "pm25_filtered_1day = pm25_filtered_1day.assign(t = (((pm25_filtered['Datetime']) - np.datetime64('2018-11-08 05:00:00')).dt.total_seconds())/600)\n",
    "pm25_filtered_1day = pm25_filtered_1day[['t', 'x', 'y', 'Sample Measurement']]"
   ]
  },
  {
   "cell_type": "code",
   "execution_count": 34,
   "metadata": {},
   "outputs": [],
   "source": [
    "pm25_filtered_xy = pm25_filtered_1day[['x', 'y']].drop_duplicates()\n",
    "pm25_xy_final = pm25_filtered_xy.to_numpy()\n",
    "np.save(\"../data/pm25_xy_list.npy\",pm25_xy_final)"
   ]
  },
  {
   "cell_type": "code",
   "execution_count": 39,
   "metadata": {},
   "outputs": [],
   "source": [
    "pm25_filtered_t = pm25_filtered_1day[['t']].drop_duplicates()\n",
    "pm25_1day_t = pm25_filtered_t.to_numpy()\n",
    "np.save(\"../data/pm25_1day_t.npy\",pm25_1day_t)"
   ]
  },
  {
   "cell_type": "code",
   "execution_count": 12,
   "metadata": {},
   "outputs": [],
   "source": [
    "#convert measurements to ppm\n",
    "pm25_filtered_1day['Sample Measurement'] = pm25_filtered_1day['Sample Measurement']/1000"
   ]
  },
  {
   "cell_type": "code",
   "execution_count": 13,
   "metadata": {},
   "outputs": [],
   "source": [
    "pm25_final = pm25_filtered_1day.to_numpy()\n",
    "np.save(\"../data/pm25_processed_1day.npy\", pm25_final)"
   ]
  },
  {
   "cell_type": "code",
   "execution_count": 17,
   "metadata": {},
   "outputs": [
    {
     "data": {
      "text/html": [
       "<div>\n",
       "<style scoped>\n",
       "    .dataframe tbody tr th:only-of-type {\n",
       "        vertical-align: middle;\n",
       "    }\n",
       "\n",
       "    .dataframe tbody tr th {\n",
       "        vertical-align: top;\n",
       "    }\n",
       "\n",
       "    .dataframe thead th {\n",
       "        text-align: right;\n",
       "    }\n",
       "</style>\n",
       "<table border=\"1\" class=\"dataframe\">\n",
       "  <thead>\n",
       "    <tr style=\"text-align: right;\">\n",
       "      <th></th>\n",
       "      <th>t</th>\n",
       "      <th>x</th>\n",
       "      <th>y</th>\n",
       "      <th>Sample Measurement</th>\n",
       "    </tr>\n",
       "  </thead>\n",
       "  <tbody>\n",
       "    <tr>\n",
       "      <th>208708</th>\n",
       "      <td>0.0</td>\n",
       "      <td>30</td>\n",
       "      <td>43</td>\n",
       "      <td>0.005</td>\n",
       "    </tr>\n",
       "    <tr>\n",
       "      <th>208709</th>\n",
       "      <td>6.0</td>\n",
       "      <td>30</td>\n",
       "      <td>43</td>\n",
       "      <td>0.006</td>\n",
       "    </tr>\n",
       "    <tr>\n",
       "      <th>208710</th>\n",
       "      <td>12.0</td>\n",
       "      <td>30</td>\n",
       "      <td>43</td>\n",
       "      <td>0.008</td>\n",
       "    </tr>\n",
       "    <tr>\n",
       "      <th>208711</th>\n",
       "      <td>18.0</td>\n",
       "      <td>30</td>\n",
       "      <td>43</td>\n",
       "      <td>0.005</td>\n",
       "    </tr>\n",
       "    <tr>\n",
       "      <th>208712</th>\n",
       "      <td>24.0</td>\n",
       "      <td>30</td>\n",
       "      <td>43</td>\n",
       "      <td>0.004</td>\n",
       "    </tr>\n",
       "    <tr>\n",
       "      <th>...</th>\n",
       "      <td>...</td>\n",
       "      <td>...</td>\n",
       "      <td>...</td>\n",
       "      <td>...</td>\n",
       "    </tr>\n",
       "    <tr>\n",
       "      <th>810506</th>\n",
       "      <td>120.0</td>\n",
       "      <td>42</td>\n",
       "      <td>40</td>\n",
       "      <td>0.012</td>\n",
       "    </tr>\n",
       "    <tr>\n",
       "      <th>810507</th>\n",
       "      <td>126.0</td>\n",
       "      <td>42</td>\n",
       "      <td>40</td>\n",
       "      <td>0.016</td>\n",
       "    </tr>\n",
       "    <tr>\n",
       "      <th>810508</th>\n",
       "      <td>132.0</td>\n",
       "      <td>42</td>\n",
       "      <td>40</td>\n",
       "      <td>0.030</td>\n",
       "    </tr>\n",
       "    <tr>\n",
       "      <th>810509</th>\n",
       "      <td>138.0</td>\n",
       "      <td>42</td>\n",
       "      <td>40</td>\n",
       "      <td>0.033</td>\n",
       "    </tr>\n",
       "    <tr>\n",
       "      <th>810510</th>\n",
       "      <td>144.0</td>\n",
       "      <td>42</td>\n",
       "      <td>40</td>\n",
       "      <td>0.031</td>\n",
       "    </tr>\n",
       "  </tbody>\n",
       "</table>\n",
       "<p>1317 rows × 4 columns</p>\n",
       "</div>"
      ],
      "text/plain": [
       "            t   x   y  Sample Measurement\n",
       "208708    0.0  30  43               0.005\n",
       "208709    6.0  30  43               0.006\n",
       "208710   12.0  30  43               0.008\n",
       "208711   18.0  30  43               0.005\n",
       "208712   24.0  30  43               0.004\n",
       "...       ...  ..  ..                 ...\n",
       "810506  120.0  42  40               0.012\n",
       "810507  126.0  42  40               0.016\n",
       "810508  132.0  42  40               0.030\n",
       "810509  138.0  42  40               0.033\n",
       "810510  144.0  42  40               0.031\n",
       "\n",
       "[1317 rows x 4 columns]"
      ]
     },
     "execution_count": 17,
     "metadata": {},
     "output_type": "execute_result"
    }
   ],
   "source": [
    "pm25_filtered_1day"
   ]
  },
  {
   "cell_type": "markdown",
   "metadata": {},
   "source": [
    "the array above is [t,x,y,measurement]\n",
    "time is intervals of 10 mins (ie, t=6 means 1 hour), x and y are between 0 and 80, a mapping from lat, lon grid [35,40]x[-124,-118] to the 80**2 grid we have, where 0 is the lower left corner. measurements have units of ppm (1ppm=1000 mg/m3)"
   ]
  },
  {
   "cell_type": "code",
   "execution_count": 14,
   "metadata": {},
   "outputs": [],
   "source": [
    "\n",
    "#finish making t\n",
    "import numpy as np\n",
    "\n",
    "pm25_filtered_3day = select_time(pm25_filtered, '2018-11-08 05:00:00', '2018-11-11 05:00:00')\n",
    "pm25_filtered_3day = pm25_filtered_3day.assign(t = (((pm25_filtered['Datetime']) - np.datetime64('2018-11-08 05:00:00')).dt.total_seconds())/600)\n",
    "pm25_filtered_3day = pm25_filtered_3day[['t', 'x', 'y', 'Sample Measurement']]"
   ]
  },
  {
   "cell_type": "code",
   "execution_count": 15,
   "metadata": {},
   "outputs": [],
   "source": [
    "#convert measurements to ppm\n",
    "pm25_filtered_3day['Sample Measurement'] = pm25_filtered_3day['Sample Measurement']/1000\n",
    "pm25_final = pm25_filtered_3day.to_numpy()\n",
    "np.save(\"../data/pm25_processed_3day.npy\", pm25_final)"
   ]
  },
  {
   "cell_type": "code",
   "execution_count": 115,
   "metadata": {},
   "outputs": [],
   "source": [
    "#sensor_locations = list(set(pm25_filtered['Coords'].to_list()))\n",
    "\n",
    "#convert sensor locations to grid\n",
    "#apply func to each element of list\n",
    "#sensor_locations_grid = [map_coords_to_grid(i) for i in sensor_locations]\n",
    "\n",
    "#pm25_filtered.to_csv(\"../data/hourly_pm25_filtered_v2.csv\")"
   ]
  },
  {
   "cell_type": "code",
   "execution_count": 8,
   "metadata": {},
   "outputs": [
    {
     "data": {
      "text/plain": [
       "Text(0, 0.5, 'lat')"
      ]
     },
     "execution_count": 8,
     "metadata": {},
     "output_type": "execute_result"
    },
    {
     "data": {
      "image/png": "[encoded data removed]",
      "text/plain": [
       "<Figure size 432x288 with 1 Axes>"
      ]
     },
     "metadata": {
      "needs_background": "light"
     },
     "output_type": "display_data"
    }
   ],
   "source": [
    "#test = [x for x in sensor_locations if x[1] >= 40]\n",
    "import numpy as np\n",
    "import matplotlib.pyplot as plt\n",
    "plt.scatter(*zip(*sensor_locations_grid))\n",
    "plt.xlabel(\"lon\")\n",
    "plt.xticks(np.linspace(0,80,int(lon_e-lon_w)+1),[str(n) for n in np.linspace(lon_w,lon_e,int(lon_e-lon_w)+1)])\n",
    "plt.yticks(np.linspace(0,80,int(lat_n-lat_s)+1),[str(n) for n in np.linspace(lat_s,lat_n,int(lat_n-lat_s)+1)])\n",
    "plt.ylabel(\"lat\")\n",
    "#change size, compare w map"
   ]
  }
 ],
 "metadata": {
  "interpreter": {
   "hash": "43e28883dfd2193a82dc824ab0215c5454e30ee6978a278cbf6e10e44db4f48d"
  },
  "kernelspec": {
   "display_name": "Python 3.9.7 64-bit ('porepy': conda)",
   "name": "python3"
  },
  "language_info": {
   "codemirror_mode": {
    "name": "ipython",
    "version": 3
   },
   "file_extension": ".py",
   "mimetype": "text/x-python",
   "name": "python",
   "nbconvert_exporter": "python",
   "pygments_lexer": "ipython3",
   "version": "3.9.7"
  }
 },
 "nbformat": 4,
 "nbformat_minor": 4
}
