{
 "cells": [
  {
   "cell_type": "code",
   "execution_count": 1,
   "metadata": {},
   "outputs": [],
   "source": [
    "import importlib\n",
    "import run_adv_diff_copy\n",
    "importlib.reload(run_adv_diff_copy)\n",
    "from run_adv_diff_copy import run_toy_model\n",
    "import numpy as np\n",
    "# %load_ext autoreload\n",
    "# %autoreload 2"
   ]
  },
  {
   "cell_type": "code",
   "execution_count": 2,
   "metadata": {},
   "outputs": [],
   "source": [
    "# # SPECIFY SETTINGS\n",
    "# n = 100                    # GRID DIMENSION: square domain\n",
    "# T = 100 # number of time steps, integer\n",
    "# sources = np.array([[1.0/n,1.0/n]])\n",
    "# num_faces = 2*n**2 + 2*n\n",
    "# num_cells = n**2            \n",
    "# S = np.array([1.0])         # List: source strengths\n",
    "# S_loc = sources #np.array([[0.5, 0.5]]) # List: source locations in 1x1 domain\n",
    "# sense_t = list(np.arange(1,T))     # List: sensor output times (integer times)\n",
    "# sense_loc = np.array([[0.2, 0.2],[0.2,0.6],[0.6,0.2],[0.6,0.2]]) # List: sensor locations\n",
    "\n",
    "# # modify if velocity field/diff_coeff are different than default\n",
    "# #velocity_field = -np.ones(num_faces)\n",
    "# #diff_coeff = np.ones(num_cells)\n",
    "\n",
    "# # Run the forward model; turn off create_gif to speed up\n",
    "# run_toy_model(n, S, S_loc, sense_t, sense_loc, create_gif=False)"
   ]
  },
  {
   "cell_type": "code",
   "execution_count": 3,
   "metadata": {},
   "outputs": [],
   "source": [
    "# batch case - run for all source points\n",
    "# SPECIFY SETTINGS\n",
    "n = 80                   # GRID DIMENSION: square domain\n",
    "T = 120 # number of time steps, integer\n",
    "\n",
    "num_faces = 2*n**2 + 2*n\n",
    "num_cells = n**2            \n",
    "S = np.array([1.0])         # List: source strengths\n",
    "sense_t = list(np.arange(1,T))     # List: sensor output times (integer times)\n",
    "sense_loc = np.array([[0.2, 0.2],[0.2,0.6],[0.6,0.2],[0.6,0.2]]) # List: sensor locations\n",
    "\n",
    "for i in range(n):\n",
    "    for j in range(n):\n",
    "        sources = np.array([[i/n,j/n]])\n",
    "        S_loc = sources # List: source locations in 1x1 domain\n",
    "        # Run the forward model; turn off create_gif to speed up\n",
    "        run_toy_model(n, S, S_loc, sense_t, sense_loc, create_gif=False)"
   ]
  }
 ],
 "metadata": {
  "interpreter": {
   "hash": "e2d57717ff6f62871fac01337443b9a7d28bc28694895ea6ef26e2ca1f7478d0"
  },
  "kernelspec": {
   "display_name": "Python 3.9.7 64-bit ('porepy3': conda)",
   "name": "python3"
  },
  "language_info": {
   "codemirror_mode": {
    "name": "ipython",
    "version": 3
   },
   "file_extension": ".py",
   "mimetype": "text/x-python",
   "name": "python",
   "nbconvert_exporter": "python",
   "pygments_lexer": "ipython3",
   "version": "3.9.7"
  },
  "orig_nbformat": 4
 },
 "nbformat": 4,
 "nbformat_minor": 2
}
